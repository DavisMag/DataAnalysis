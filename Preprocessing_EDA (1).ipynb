{
 "cells": [
  {
   "cell_type": "code",
   "execution_count": null,
   "id": "e5a05b7c",
   "metadata": {},
   "outputs": [],
   "source": [
    "\n",
    "import pandas as pd\n",
    "import matplotlib.pyplot as plt\n",
    "import seaborn as sns\n",
    "import string\n",
    "import re\n",
    "from collections import Counter\n",
    "from textblob import Word\n",
    "\n",
    "df = pd.read_excel('318NewsDataSet.xlsx')\n",
    "df.columns = [col.strip().replace(' ', '_') for col in df.columns]\n"
   ]
  },
  {
   "cell_type": "code",
   "execution_count": null,
   "id": "0a66f922",
   "metadata": {},
   "outputs": [],
   "source": [
    "\n",
    "stopwords = set([\n",
    "    'a', 'about', 'above', 'after', 'again', 'against', 'all', 'am', 'an', 'and', 'any',\n",
    "    'are', 'as', 'at', 'be', 'because', 'been', 'before', 'being', 'below', 'between',\n",
    "    'both', 'but', 'by', 'could', 'did', 'do', 'does', 'doing', 'down', 'during', 'each',\n",
    "    'few', 'for', 'from', 'further', 'had', 'has', 'have', 'having', 'he', 'her', 'here',\n",
    "    'hers', 'herself', 'him', 'himself', 'his', 'how', 'i', 'if', 'in', 'into', 'is', 'it',\n",
    "    'its', 'itself', 'me', 'more', 'most', 'my', 'myself', 'no', 'nor', 'not', 'of', 'off',\n",
    "    'on', 'once', 'only', 'or', 'other', 'our', 'ours', 'ourselves', 'out', 'over', 'own',\n",
    "    'same', 'she', 'should', 'so', 'some', 'such', 'than', 'that', 'the', 'their', 'theirs',\n",
    "    'them', 'themselves', 'then', 'there', 'these', 'they', 'this', 'those', 'through', 'to',\n",
    "    'too', 'under', 'until', 'up', 'very', 'was', 'we', 'were', 'what', 'when', 'where',\n",
    "    'which', 'while', 'who', 'whom', 'why', 'will', 'with', 'you', 'your', 'yours',\n",
    "    'yourself', 'yourselves', 'said', 'also', 'sh', 'r', 'one', 'would', 'get', 'could', 'us',\n",
    "    'like', 'make', 'many', 'however', 'must', 'still', 'even', 'much', 'new', 'take', 'two',\n",
    "    'use', 'may', 'well', 'back', 'around', 'another', 'since', 'year', 'yet', 'without',\n",
    "    'first', 'mr', 'can'\n",
    "])\n",
    "\n",
    "def clean_text(text):\n",
    "    text = str(text).lower()\n",
    "    text = text.translate(str.maketrans('', '', string.digits + string.punctuation))\n",
    "    tokens = text.split()\n",
    "    return ' '.join([w for w in tokens if w not in stopwords])\n",
    "\n",
    "df['Processed_Content'] = df['Content'].apply(clean_text)\n"
   ]
  },
  {
   "cell_type": "code",
   "execution_count": null,
   "id": "2701b578",
   "metadata": {},
   "outputs": [],
   "source": [
    "\n",
    "def lemmatize_tokens(text):\n",
    "    return [Word(word).lemmatize() for word in text.split()]\n",
    "\n",
    "df['Tokens'] = df['Processed_Content'].apply(lemmatize_tokens)\n"
   ]
  },
  {
   "cell_type": "code",
   "execution_count": null,
   "id": "5d6a0d13",
   "metadata": {},
   "outputs": [],
   "source": [
    "\n",
    "df['Doc_Length'] = df['Tokens'].apply(len)\n",
    "\n",
    "plt.figure(figsize=(10, 5))\n",
    "sns.histplot(df['Doc_Length'], bins=30, kde=True)\n",
    "plt.title('Document Length Distribution')\n",
    "plt.xlabel('Word Count')\n",
    "plt.ylabel('Frequency')\n",
    "plt.grid(True)\n",
    "plt.savefig(\"length_distribution.png\")\n",
    "plt.show()\n"
   ]
  },
  {
   "cell_type": "code",
   "execution_count": null,
   "id": "33cb9c52",
   "metadata": {},
   "outputs": [],
   "source": [
    "\n",
    "all_words = [word for tokens in df['Tokens'] for word in tokens]\n",
    "top_words = Counter(all_words).most_common(20)\n",
    "words, counts = zip(*top_words)\n",
    "\n",
    "plt.figure(figsize=(12, 5))\n",
    "sns.barplot(x=list(words), y=list(counts), palette='viridis')\n",
    "plt.title('Top 20 Most Frequent Words')\n",
    "plt.xticks(rotation=45)\n",
    "plt.xlabel('Word')\n",
    "plt.ylabel('Frequency')\n",
    "plt.tight_layout()\n",
    "plt.savefig(\"word_frequencies.png\")\n",
    "plt.show()\n"
   ]
  },
  {
   "cell_type": "code",
   "execution_count": null,
   "id": "ab908957",
   "metadata": {},
   "outputs": [],
   "source": [
    "\n",
    "plt.figure(figsize=(12, 5))\n",
    "sns.countplot(data=df, x='Year', order=sorted(df['Year'].unique()))\n",
    "plt.title('Article Count by Year')\n",
    "plt.xlabel('Year')\n",
    "plt.ylabel('Count')\n",
    "plt.grid(True)\n",
    "plt.savefig(\"reporting_trend_yearly.png\")\n",
    "plt.show()\n",
    "\n",
    "plt.figure(figsize=(12, 5))\n",
    "sns.countplot(data=df, x='Month', order=['January','February','March','April','May','June',\n",
    "                                         'July','August','September','October','November','December'])\n",
    "plt.title('Article Count by Month')\n",
    "plt.xlabel('Month')\n",
    "plt.ylabel('Count')\n",
    "plt.xticks(rotation=45)\n",
    "plt.grid(True)\n",
    "plt.tight_layout()\n",
    "plt.savefig(\"reporting_trend_monthly.png\")\n",
    "plt.show()\n"
   ]
  },
  {
   "cell_type": "code",
   "execution_count": null,
   "id": "27f14d34",
   "metadata": {},
   "outputs": [],
   "source": [
    "\n",
    "df.to_csv(\"preprocessed_data.csv\", index=False)\n"
   ]
  }
 ],
 "metadata": {},
 "nbformat": 4,
 "nbformat_minor": 5
}
