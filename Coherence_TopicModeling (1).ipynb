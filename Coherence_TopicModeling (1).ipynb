{
 "cells": [
  {
   "cell_type": "code",
   "execution_count": null,
   "id": "4bf8fda6",
   "metadata": {},
   "outputs": [],
   "source": [
    "\n",
    "import pandas as pd\n",
    "import matplotlib.pyplot as plt\n",
    "from gensim import corpora, models\n",
    "from gensim.models import CoherenceModel\n",
    "\n",
    "df = pd.read_csv(\"preprocessed_data.csv\")\n",
    "df['Tokens'] = df['Tokens'].apply(eval)\n"
   ]
  },
  {
   "cell_type": "code",
   "execution_count": null,
   "id": "73215624",
   "metadata": {},
   "outputs": [],
   "source": [
    "\n",
    "dictionary = corpora.Dictionary(df['Tokens'])\n",
    "corpus = [dictionary.doc2bow(text) for text in df['Tokens']]\n"
   ]
  },
  {
   "cell_type": "code",
   "execution_count": null,
   "id": "30f913dc",
   "metadata": {},
   "outputs": [],
   "source": [
    "\n",
    "coherence_scores = []\n",
    "models_list = []\n",
    "for num_topics in range(2, 16):\n",
    "    lda_model = models.LdaModel(corpus=corpus,\n",
    "                                 id2word=dictionary,\n",
    "                                 num_topics=num_topics,\n",
    "                                 random_state=42,\n",
    "                                 update_every=1,\n",
    "                                 chunksize=100,\n",
    "                                 passes=10,\n",
    "                                 alpha='auto',\n",
    "                                 per_word_topics=True)\n",
    "    coherence_model = CoherenceModel(model=lda_model, texts=df['Tokens'], dictionary=dictionary, coherence='c_v')\n",
    "    score = coherence_model.get_coherence()\n",
    "    coherence_scores.append(score)\n",
    "    models_list.append(lda_model)\n"
   ]
  },
  {
   "cell_type": "code",
   "execution_count": null,
   "id": "3111a767",
   "metadata": {},
   "outputs": [],
   "source": [
    "\n",
    "plt.figure(figsize=(10, 6))\n",
    "plt.plot(range(2, 16), coherence_scores, marker='o')\n",
    "plt.title('Coherence Scores by Number of Topics')\n",
    "plt.xlabel('Number of Topics')\n",
    "plt.ylabel('Coherence Score (c_v)')\n",
    "plt.grid(True)\n",
    "plt.savefig(\"coherence_scores.png\")\n",
    "plt.show()\n"
   ]
  },
  {
   "cell_type": "code",
   "execution_count": null,
   "id": "78c68eff",
   "metadata": {},
   "outputs": [],
   "source": [
    "\n",
    "perplexity_scores = [model.log_perplexity(corpus) for model in models_list]\n",
    "\n",
    "plt.figure(figsize=(10, 6))\n",
    "plt.plot(range(2, 16), perplexity_scores, marker='o', color='red')\n",
    "plt.title('Perplexity Scores by Number of Topics')\n",
    "plt.xlabel('Number of Topics')\n",
    "plt.ylabel('Log Perplexity')\n",
    "plt.grid(True)\n",
    "plt.savefig(\"perplexity_scores.png\")\n",
    "plt.show()\n"
   ]
  },
  {
   "cell_type": "code",
   "execution_count": null,
   "id": "fbe8e964",
   "metadata": {},
   "outputs": [],
   "source": [
    "\n",
    "optimal_index = coherence_scores.index(max(coherence_scores))\n",
    "best_model = models_list[optimal_index]\n",
    "best_num_topics = optimal_index + 2\n",
    "print(f\"Optimal number of topics: {best_num_topics}\")\n"
   ]
  },
  {
   "cell_type": "code",
   "execution_count": null,
   "id": "d2cafae9",
   "metadata": {},
   "outputs": [],
   "source": [
    "\n",
    "topics = best_model.print_topics(num_words=10)\n",
    "for topic_num, topic in topics:\n",
    "    print(f\"Topic {topic_num}: {topic}\")\n"
   ]
  },
  {
   "cell_type": "code",
   "execution_count": null,
   "id": "a9fac3af",
   "metadata": {},
   "outputs": [],
   "source": [
    "\n",
    "def get_dominant_topic(ldamodel, bow):\n",
    "    topics = ldamodel.get_document_topics(bow)\n",
    "    if topics:\n",
    "        return sorted(topics, key=lambda x: x[1], reverse=True)[0][0]\n",
    "    return None\n",
    "\n",
    "df['Dominant_Topic'] = [get_dominant_topic(best_model, doc) for doc in corpus]\n"
   ]
  },
  {
   "cell_type": "code",
   "execution_count": null,
   "id": "390653db",
   "metadata": {},
   "outputs": [],
   "source": [
    "\n",
    "plt.figure(figsize=(12, 6))\n",
    "sns.countplot(data=df, x='Year', hue='Dominant_Topic', palette='tab10')\n",
    "plt.title('Topic Frequency Distribution by Year')\n",
    "plt.xlabel('Year')\n",
    "plt.ylabel('Document Count')\n",
    "plt.legend(title='Topic')\n",
    "plt.grid(True)\n",
    "plt.tight_layout()\n",
    "plt.savefig(\"topic_year_distribution.png\")\n",
    "plt.show()\n"
   ]
  },
  {
   "cell_type": "code",
   "execution_count": null,
   "id": "48657294",
   "metadata": {},
   "outputs": [],
   "source": [
    "\n",
    "df.to_csv(\"topic_model_output.csv\", index=False)\n"
   ]
  }
 ],
 "metadata": {},
 "nbformat": 4,
 "nbformat_minor": 5
}
