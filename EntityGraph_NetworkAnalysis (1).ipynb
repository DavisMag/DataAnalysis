{
 "cells": [
  {
   "cell_type": "code",
   "execution_count": null,
   "id": "b70c14bf",
   "metadata": {},
   "outputs": [],
   "source": [
    "\n",
    "import pandas as pd\n",
    "import spacy\n",
    "from collections import Counter\n",
    "import networkx as nx\n",
    "import matplotlib.pyplot as plt\n",
    "\n",
    "df = pd.read_excel(\"318NewsDataSet.xlsx\")\n",
    "nlp = spacy.load(\"en_core_web_sm\")\n",
    "\n",
    "entity_list = []\n",
    "entity_types = []\n",
    "\n",
    "for doc in nlp.pipe(df[\"Content\"].astype(str).tolist(), disable=[\"tagger\", \"parser\"]):\n",
    "    ents = [ent.text for ent in doc.ents if ent.label_ in [\"PERSON\", \"ORG\", \"GPE\"]]\n",
    "    labels = [ent.label_ for ent in doc.ents if ent.label_ in [\"PERSON\", \"ORG\", \"GPE\"]]\n",
    "    entity_list.append(ents)\n",
    "    entity_types.extend(labels)\n",
    "\n",
    "df[\"Entities\"] = entity_list\n"
   ]
  },
  {
   "cell_type": "code",
   "execution_count": null,
   "id": "7365bc05",
   "metadata": {},
   "outputs": [],
   "source": [
    "\n",
    "from itertools import combinations\n",
    "from collections import Counter\n",
    "\n",
    "co_occurrence = Counter()\n",
    "for entity_set in df[\"Entities\"]:\n",
    "    unique_entities = list(set(entity_set))\n",
    "    for pair in combinations(sorted(unique_entities), 2):\n",
    "        co_occurrence[pair] += 1\n"
   ]
  },
  {
   "cell_type": "code",
   "execution_count": null,
   "id": "ba8b95c4",
   "metadata": {},
   "outputs": [],
   "source": [
    "\n",
    "G = nx.Graph()\n",
    "for (ent1, ent2), weight in co_occurrence.items():\n",
    "    G.add_edge(ent1, ent2, weight=weight)\n"
   ]
  },
  {
   "cell_type": "code",
   "execution_count": null,
   "id": "642222c1",
   "metadata": {},
   "outputs": [],
   "source": [
    "\n",
    "plt.figure(figsize=(12, 12))\n",
    "pos = nx.spring_layout(G, k=0.15)\n",
    "nx.draw_networkx_nodes(G, pos, node_size=50, alpha=0.7)\n",
    "nx.draw_networkx_edges(G, pos, width=0.5, alpha=0.4)\n",
    "nx.draw_networkx_labels(G, pos, font_size=8, font_color='black')\n",
    "plt.axis(\"off\")\n",
    "plt.title(\"Entity Co-Occurrence Network\")\n",
    "plt.savefig(\"entity_network.png\", dpi=300)\n",
    "plt.show()\n",
    "\n",
    "nx.write_graphml(G, \"entity_network.graphml\")\n"
   ]
  },
  {
   "cell_type": "code",
   "execution_count": null,
   "id": "1684c2f3",
   "metadata": {},
   "outputs": [],
   "source": [
    "\n",
    "label_counts = Counter(entity_types)\n",
    "labels, counts = zip(*label_counts.items())\n",
    "\n",
    "plt.figure(figsize=(8, 5))\n",
    "sns.barplot(x=list(labels), y=list(counts), palette=\"Set2\")\n",
    "plt.title(\"Frequency of Named Entity Types\")\n",
    "plt.xlabel(\"Entity Label\")\n",
    "plt.ylabel(\"Frequency\")\n",
    "plt.grid(True)\n",
    "plt.tight_layout()\n",
    "plt.savefig(\"entity_labels.png\")\n",
    "plt.show()\n"
   ]
  },
  {
   "cell_type": "code",
   "execution_count": null,
   "id": "71112bc3",
   "metadata": {},
   "outputs": [],
   "source": [
    "\n",
    "degree_centrality = nx.degree_centrality(G)\n",
    "betweenness_centrality = nx.betweenness_centrality(G)\n",
    "\n",
    "top_degree = sorted(degree_centrality.items(), key=lambda x: x[1], reverse=True)[:10]\n",
    "top_betweenness = sorted(betweenness_centrality.items(), key=lambda x: x[1], reverse=True)[:10]\n",
    "\n",
    "print(\"Top 10 Nodes by Degree Centrality\")\n",
    "for node, score in top_degree:\n",
    "    print(f\"{node}: {score:.3f}\")\n",
    "\n",
    "print(\"\\nTop 10 Nodes by Betweenness Centrality\")\n",
    "for node, score in top_betweenness:\n",
    "    print(f\"{node}: {score:.3f}\")\n"
   ]
  },
  {
   "cell_type": "code",
   "execution_count": null,
   "id": "73b26126",
   "metadata": {},
   "outputs": [],
   "source": [
    "\n",
    "import csv\n",
    "\n",
    "with open(\"centrality_scores.csv\", \"w\", newline='') as f:\n",
    "    writer = csv.writer(f)\n",
    "    writer.writerow([\"Entity\", \"DegreeCentrality\", \"BetweennessCentrality\"])\n",
    "    for node in G.nodes():\n",
    "        writer.writerow([\n",
    "            node,\n",
    "            degree_centrality.get(node, 0),\n",
    "            betweenness_centrality.get(node, 0)\n",
    "        ])\n"
   ]
  }
 ],
 "metadata": {},
 "nbformat": 4,
 "nbformat_minor": 5
}
